{
 "cells": [
  {
   "cell_type": "code",
   "execution_count": 2,
   "id": "f1038597",
   "metadata": {},
   "outputs": [],
   "source": [
    "# Exercício 1 - Crie um objeto a partir da classe abaixo, chamado roc1, \n",
    "# passando 2 parâmetros e depois faça uma chamada aos atributos e métodos\n",
    "from math import sqrt\n",
    "\n",
    "class Rocket():\n",
    "     \n",
    "    def __init__(self, x=0, y=0):\n",
    "        self.x = x\n",
    "        self.y = y\n",
    "        \n",
    "    def move_rocket(self, x_increment=0, y_increment=1):\n",
    "        self.x += x_increment\n",
    "        self.y += y_increment\n",
    "        \n",
    "    def print_rocket(self):\n",
    "        print(self.x, self.y)"
   ]
  },
  {
   "cell_type": "code",
   "execution_count": 3,
   "id": "c645bfe1",
   "metadata": {},
   "outputs": [
    {
     "name": "stdout",
     "output_type": "stream",
     "text": [
      "0\n",
      "0\n",
      "3 6\n"
     ]
    }
   ],
   "source": [
    "# Criando objeto a partir da classe Rocket()\n",
    "roc1 = Rocket()\n",
    "\n",
    "# Atributos do Rocket()\n",
    "print(roc1.x)\n",
    "print(roc1.y)\n",
    "\n",
    "# Passando parametro para o método move_rocket\n",
    "roc1.move_rocket(3, 4)\n",
    "\n",
    "# Chamando o método move_rocket\n",
    "roc1.move_rocket()\n",
    "roc1.move_rocket()\n",
    "\n",
    "# Chamando o método para imprimir a localizacao do roc1\n",
    "roc1.print_rocket()"
   ]
  },
  {
   "cell_type": "code",
   "execution_count": 2,
   "id": "20b82b90",
   "metadata": {},
   "outputs": [],
   "source": [
    "# Exercício 2 - Crie uma classe chamada Pessoa() com os atributos: nome, cidade, telefone e e-mail. \n",
    "# Use pelo menos 2 métodos especiais na sua classe. \n",
    "# Crie um objeto da sua classe e faça uma chamada a pelo menos um dos seus métodos especiais.\n",
    "\n",
    "class Pessoa():\n",
    "    \n",
    "    def __init__(self, nome, cidade, telefone, email):\n",
    "        self.nome = nome\n",
    "        self.cidade = cidade\n",
    "        self.telefone = telefone\n",
    "        self.email = email\n",
    "    \n",
    "    def __str__(self):\n",
    "        return f'Nome do usuário: {self.nome}, da cidade de {self.cidade}. Meios de contato: {self.telefone}, email: {self.email}'\n"
   ]
  },
  {
   "cell_type": "code",
   "execution_count": 3,
   "id": "de2ab9e5",
   "metadata": {},
   "outputs": [
    {
     "name": "stdout",
     "output_type": "stream",
     "text": [
      "Nome do usuário: Victor, da cidade de Sao Luis. Meios de contato: 98999999999, email: victorh.laune@gmail.com\n"
     ]
    }
   ],
   "source": [
    "pessoa1 = Pessoa(nome='Victor', cidade='Sao Luis', telefone=98999999999, email='victorh.laune@gmail.com')\n",
    "print(pessoa1)"
   ]
  },
  {
   "cell_type": "code",
   "execution_count": 14,
   "id": "1c8a3f0c",
   "metadata": {},
   "outputs": [
    {
     "data": {
      "text/plain": [
       "'Pequeno'"
      ]
     },
     "execution_count": 14,
     "metadata": {},
     "output_type": "execute_result"
    }
   ],
   "source": [
    "# Exercício 3 - Crie a classe Smartphone com 2 atributos, tamanho e interface e crie a classe MP3Player com os \n",
    "# atributos capacidade. A classe MP3player deve herdar os atributos da classe Smartphone.\n",
    "\n",
    "class Smartphone():\n",
    "    def __init__(self, tamanho, interface):\n",
    "        self.tamanho = tamanho\n",
    "        self.interface = interface\n",
    "\n",
    "class MP3player(Smartphone):\n",
    "    def __init__(self, capacidade, tamanho=1, interface=2):\n",
    "        self.capacidade = capacidade\n",
    "        Smartphone.__init__(self, tamanho, interface)\n",
    "\n",
    "\n",
    "device1 = MP3Player('3')\n",
    "device1.tamanho"
   ]
  },
  {
   "cell_type": "code",
   "execution_count": 4,
   "id": "95d5979f-423f-486d-918b-dd80ec940682",
   "metadata": {},
   "outputs": [
    {
     "name": "stdout",
     "output_type": "stream",
     "text": [
      "Valores para o objeto criado: Pequeno Led 64 GB\n"
     ]
    }
   ],
   "source": [
    "class Smartphone(object):\n",
    "    def __init__(self, tamanho, interface):\n",
    "        self.tamanho = tamanho\n",
    "        self.interface = interface\n",
    "        \n",
    "class MP3Player(Smartphone):\n",
    "    def __init__(self, capacidade, tamanho = 'Pequeno', interface = 'Led'):\n",
    "        self.capacidade = capacidade\n",
    "        Smartphone.__init__(self, tamanho, interface)\n",
    "        \n",
    "    def print_mp3player(self):\n",
    "        print(\"Valores para o objeto criado: %s %s %s\"  %(self.tamanho, self.interface, self.capacidade))\n",
    "    \n",
    "device1 = MP3Player('64 GB')\n",
    "device1.print_mp3player()"
   ]
  },
  {
   "cell_type": "code",
   "execution_count": 76,
   "id": "6f319235",
   "metadata": {},
   "outputs": [],
   "source": [
    "player = MP3player(tamanho=1, interface=2, capacidade=3)"
   ]
  },
  {
   "cell_type": "code",
   "execution_count": 78,
   "id": "b06135b9",
   "metadata": {},
   "outputs": [
    {
     "name": "stdout",
     "output_type": "stream",
     "text": [
      "1\n",
      "2\n",
      "3\n"
     ]
    }
   ],
   "source": [
    "print(player.tamanho)\n",
    "print(player.interface)\n",
    "print(player.capacidade)"
   ]
  }
 ],
 "metadata": {
  "kernelspec": {
   "display_name": "Python 3 (ipykernel)",
   "language": "python",
   "name": "python3"
  },
  "language_info": {
   "codemirror_mode": {
    "name": "ipython",
    "version": 3
   },
   "file_extension": ".py",
   "mimetype": "text/x-python",
   "name": "python",
   "nbconvert_exporter": "python",
   "pygments_lexer": "ipython3",
   "version": "3.10.4"
  }
 },
 "nbformat": 4,
 "nbformat_minor": 5
}
